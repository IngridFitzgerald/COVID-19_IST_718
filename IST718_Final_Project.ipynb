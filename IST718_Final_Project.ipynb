{
 "cells": [
  {
   "cell_type": "code",
   "execution_count": 8,
   "metadata": {},
   "outputs": [],
   "source": [
    "import os\n",
    "from pandas import Series\n",
    "import pandasql\n",
    "from sklearn.metrics import mean_squared_error\n",
    "from statsmodels.tsa.arima_model import ARIMA\n",
    "from statsmodels.tsa.arima_model import ARIMAResults\n",
    "from statsmodels.tsa.statespace.sarimax import SARIMAX\n",
    "from math import sqrt\n",
    "from pandas import DataFrame\n",
    "from scipy.stats import boxcox\n",
    "import pandas as pd  # data frame operations\n",
    "import numpy as np  # arrays and math functions\n",
    "from sklearn import linear_model\n",
    "from sklearn.model_selection import train_test_split\n",
    "from sklearn.metrics import mean_squared_error\n",
    "from sklearn.metrics import r2_score\n",
    "from scipy.stats import uniform  # for training-and-test split\n",
    "import statsmodels.api as sm  # statistical models (including regression)\n",
    "import statsmodels.formula.api as smf  # R-like model specification\n",
    "import matplotlib.pyplot as plt  # 2D plotting\n",
    "import seaborn as sns  # PROVIDES TRELLIS AND SMALL MULTIPLE PLOTTING\n",
    "sns.set(color_codes=True)\n",
    "from pandas import read_csv\n",
    "import matplotlib as mpl\n",
    "from matplotlib import pyplot\n",
    "from sklearn.preprocessing import MinMaxScaler\n",
    "from sklearn.preprocessing import LabelEncoder\n",
    "from sklearn.metrics import mean_squared_error\n",
    "from keras.models import Sequential\n",
    "from keras.layers import Dense\n",
    "from keras.layers import LSTM\n",
    "import matplotlib.pyplot as plt\n",
    "#import plotly.graph_objs as go\n",
    "#from plotly.offline import init_notebook_mode, iplot\n",
    "#init_notebook_mode(connected=True) "
   ]
  },
  {
   "cell_type": "code",
   "execution_count": 9,
   "metadata": {},
   "outputs": [],
   "source": [
    "# This funtion takes the file and checks & processes\n",
    "def LoadFile(dataFileName):\n",
    "    isExisted = os.path.isfile(dataFileName)\n",
    "    if isExisted == True: # Read in the data when the file does exist\n",
    "        df = pd.read_csv(dataFileName, encoding = 'latin-1')\n",
    "    else: # Print our message when the file provide does not exist\n",
    "        print(\"File name:\", dataFileName, \"does not exist in\", os.getcwd(), \"folder\")\n",
    "    return pd.DataFrame(df)"
   ]
  },
  {
   "cell_type": "code",
   "execution_count": 12,
   "metadata": {},
   "outputs": [],
   "source": [
    "# Load files by using LoadFile function defines above\n",
    "states_by_county_death = LoadFile(\"data/COVID-19_Death_Counts_in_the_United_States_by_County.csv\")\n",
    "state = LoadFile(\"data/State.csv\")\n",
    "us_counties = LoadFile(\"data/us_counties.csv\")\n",
    "county_health_rankings = LoadFile(\"data/us_county_health_rankings_2020.csv\")\n",
    "CountyHealthRankings = LoadFile(\"data/2018CountyHealthRankings.csv\")\n",
    "overall_2018_County_Health_Rankings = LoadFile(\"data/overall_2018_County_Health_Rankings.csv\")"
   ]
  },
  {
   "cell_type": "code",
   "execution_count": null,
   "metadata": {},
   "outputs": [],
   "source": []
  }
 ],
 "metadata": {
  "language_info": {
   "codemirror_mode": {
    "name": "ipython",
    "version": 3
   },
   "file_extension": ".py",
   "mimetype": "text/x-python",
   "name": "python",
   "nbconvert_exporter": "python",
   "pygments_lexer": "ipython3",
   "version": "3.7.4-final"
  },
  "orig_nbformat": 2,
  "kernelspec": {
   "name": "python37464bitbaseconda9f1ff8ea829542c5aaef06c78edb4be9",
   "display_name": "Python 3.7.4 64-bit ('base': conda)"
  }
 },
 "nbformat": 4,
 "nbformat_minor": 2
}