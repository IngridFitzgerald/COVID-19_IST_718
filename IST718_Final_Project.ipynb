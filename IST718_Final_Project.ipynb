{
 "cells": [
  {
   "cell_type": "code",
   "execution_count": 490,
   "metadata": {},
   "outputs": [],
   "source": [
    "import os\n",
    "from pandas import Series\n",
    "import pandasql\n",
    "from sklearn.metrics import mean_squared_error\n",
    "from statsmodels.tsa.arima_model import ARIMA\n",
    "from statsmodels.tsa.arima_model import ARIMAResults\n",
    "from statsmodels.tsa.statespace.sarimax import SARIMAX\n",
    "from math import sqrt\n",
    "from pandas import DataFrame\n",
    "from scipy.stats import boxcox\n",
    "import pandas as pd  # data frame operations\n",
    "import numpy as np  # arrays and math functions\n",
    "from sklearn import linear_model\n",
    "from sklearn.model_selection import train_test_split\n",
    "from sklearn.metrics import mean_squared_error\n",
    "from sklearn.metrics import r2_score\n",
    "from scipy.stats import uniform  # for training-and-test split\n",
    "import statsmodels.api as sm  # statistical models (including regression)\n",
    "import statsmodels.formula.api as smf  # R-like model specification\n",
    "import matplotlib.pyplot as plt  # 2D plotting\n",
    "import seaborn as sns  # PROVIDES TRELLIS AND SMALL MULTIPLE PLOTTING\n",
    "sns.set(color_codes=True)\n",
    "from pandas import read_csv\n",
    "import matplotlib as mpl\n",
    "from matplotlib import pyplot\n",
    "from sklearn.preprocessing import MinMaxScaler\n",
    "from sklearn.preprocessing import LabelEncoder\n",
    "from sklearn.metrics import mean_squared_error\n",
    "from keras.models import Sequential\n",
    "from keras.layers import Dense\n",
    "from keras.layers import LSTM\n",
    "import matplotlib.pyplot as plt\n",
    "#import plotly.graph_objs as go\n",
    "#from plotly.offline import init_notebook_mode, iplot\n",
    "#init_notebook_mode(connected=True) "
   ]
  },
  {
   "cell_type": "code",
   "execution_count": 491,
   "metadata": {},
   "outputs": [],
   "source": [
    "# This funtion takes the file and checks & processes\n",
    "def LoadFile(dataFileName):\n",
    "    isExisted = os.path.isfile(dataFileName)\n",
    "    if isExisted == True: # Read in the data when the file does exist\n",
    "        df = pd.read_csv(dataFileName, encoding = 'latin-1')\n",
    "    else: # Print our message when the file provide does not exist\n",
    "        print(\"File name:\", dataFileName, \"does not exist in\", os.getcwd(), \"folder\")\n",
    "    return pd.DataFrame(df)"
   ]
  },
  {
   "cell_type": "code",
   "execution_count": 492,
   "metadata": {},
   "outputs": [],
   "source": [
    "# Load files by using LoadFile function defines above\n",
    "states_by_county_death = LoadFile(\"data/COVID-19_Death_Counts_in_the_United_States_by_County.csv\")\n",
    "state = LoadFile(\"data/State.csv\")\n",
    "us_counties_cases_deaths = LoadFile(\"data/us_counties_cases_deaths.csv\")\n",
    "detail_2018_county_health_rankings = LoadFile(\"data/detail_2018_county_health_rankings.csv\")\n",
    "overall_2018_county_health_ranking = LoadFile(\"data/overall_2018_county_health_ranking.csv\")"
   ]
  },
  {
   "cell_type": "code",
   "execution_count": 493,
   "metadata": {},
   "outputs": [
    {
     "output_type": "stream",
     "name": "stdout",
     "text": "<class 'pandas.core.frame.DataFrame'>\nRangeIndex: 461 entries, 0 to 460\nData columns (total 8 columns):\n #   Column                     Non-Null Count  Dtype \n---  ------                     --------------  ----- \n 0   Date as of                 461 non-null    object\n 1   First week                 461 non-null    object\n 2   Last week                  461 non-null    object\n 3   State                      461 non-null    object\n 4   County name                461 non-null    object\n 5   FIPS County Code           461 non-null    int64 \n 6   Deaths involving COVID-19  461 non-null    int64 \n 7   Deaths from All Causes     461 non-null    int64 \ndtypes: int64(3), object(5)\nmemory usage: 28.9+ KB\n"
    }
   ],
   "source": [
    "states_by_county_death.info()"
   ]
  },
  {
   "cell_type": "code",
   "execution_count": 494,
   "metadata": {},
   "outputs": [],
   "source": [
    "for column in states_by_county_death.columns:\n",
    "    states_by_county_death.rename(columns={column: column.replace(' ', '_')}, inplace=True)"
   ]
  },
  {
   "cell_type": "code",
   "execution_count": 495,
   "metadata": {},
   "outputs": [],
   "source": [
    "states_by_county_death['FIPS_County_Code'] = states_by_county_death['FIPS_County_Code'].astype(str)\n",
    "states_by_county_death['FIPS_County_Code'] = states_by_county_death['FIPS_County_Code'].str.pad(width=5, side='left', fillchar='0')"
   ]
  },
  {
   "cell_type": "code",
   "execution_count": 496,
   "metadata": {},
   "outputs": [
    {
     "output_type": "execute_result",
     "data": {
      "text/plain": "  Date_as_of First_week  Last_week State       County_name FIPS_County_Code  \\\n0  5/20/2020   2/1/2020  5/16/2020    AL     Etowah County            01055   \n1  5/20/2020   2/1/2020  5/16/2020    AL    Houston County            01069   \n2  5/20/2020   2/1/2020  5/16/2020    AL  Jefferson County            01073   \n3  5/20/2020   2/1/2020  5/16/2020    AL        Lee County            01081   \n4  5/20/2020   2/1/2020  5/16/2020    AL    Madison County            01089   \n\n   Deaths_involving_COVID-19  Deaths_from_All_Causes  \n0                         11                     432  \n1                         24                     542  \n2                         79                    2675  \n3                         43                     362  \n4                         10                    1149  ",
      "text/html": "<div>\n<style scoped>\n    .dataframe tbody tr th:only-of-type {\n        vertical-align: middle;\n    }\n\n    .dataframe tbody tr th {\n        vertical-align: top;\n    }\n\n    .dataframe thead th {\n        text-align: right;\n    }\n</style>\n<table border=\"1\" class=\"dataframe\">\n  <thead>\n    <tr style=\"text-align: right;\">\n      <th></th>\n      <th>Date_as_of</th>\n      <th>First_week</th>\n      <th>Last_week</th>\n      <th>State</th>\n      <th>County_name</th>\n      <th>FIPS_County_Code</th>\n      <th>Deaths_involving_COVID-19</th>\n      <th>Deaths_from_All_Causes</th>\n    </tr>\n  </thead>\n  <tbody>\n    <tr>\n      <th>0</th>\n      <td>5/20/2020</td>\n      <td>2/1/2020</td>\n      <td>5/16/2020</td>\n      <td>AL</td>\n      <td>Etowah County</td>\n      <td>01055</td>\n      <td>11</td>\n      <td>432</td>\n    </tr>\n    <tr>\n      <th>1</th>\n      <td>5/20/2020</td>\n      <td>2/1/2020</td>\n      <td>5/16/2020</td>\n      <td>AL</td>\n      <td>Houston County</td>\n      <td>01069</td>\n      <td>24</td>\n      <td>542</td>\n    </tr>\n    <tr>\n      <th>2</th>\n      <td>5/20/2020</td>\n      <td>2/1/2020</td>\n      <td>5/16/2020</td>\n      <td>AL</td>\n      <td>Jefferson County</td>\n      <td>01073</td>\n      <td>79</td>\n      <td>2675</td>\n    </tr>\n    <tr>\n      <th>3</th>\n      <td>5/20/2020</td>\n      <td>2/1/2020</td>\n      <td>5/16/2020</td>\n      <td>AL</td>\n      <td>Lee County</td>\n      <td>01081</td>\n      <td>43</td>\n      <td>362</td>\n    </tr>\n    <tr>\n      <th>4</th>\n      <td>5/20/2020</td>\n      <td>2/1/2020</td>\n      <td>5/16/2020</td>\n      <td>AL</td>\n      <td>Madison County</td>\n      <td>01089</td>\n      <td>10</td>\n      <td>1149</td>\n    </tr>\n  </tbody>\n</table>\n</div>"
     },
     "metadata": {},
     "execution_count": 496
    }
   ],
   "source": [
    "states_by_county_death.head()"
   ]
  },
  {
   "cell_type": "code",
   "execution_count": 497,
   "metadata": {},
   "outputs": [],
   "source": [
    "states_by_county_death_agg = pandasql.sqldf(\"SELECT sc.State State, REPLACE(sc.County_name, ' County','' ) [Count_Name], sc.FIPS_County_Code [FIPS_Code], SUM(sc.[Deaths_involving_COVID-19]) [COVID_Death], SUM(sc.Deaths_from_All_Causes) [All_Cause_Death] FROM states_by_county_death sc GROUP BY sc.State, sc.County_name, sc.FIPS_County_Code\")"
   ]
  },
  {
   "cell_type": "code",
   "execution_count": 498,
   "metadata": {},
   "outputs": [],
   "source": [
    "states_by_county_death_agg = pandasql.sqldf(\"SELECT sc.*, s.StateName State_Name FROM states_by_county_death_agg sc LEFT JOIN state s ON rtrim(sc.State) = rtrim(ltrim(s.State))\")"
   ]
  },
  {
   "cell_type": "code",
   "execution_count": 499,
   "metadata": {},
   "outputs": [
    {
     "output_type": "execute_result",
     "data": {
      "text/plain": "  State Count_Name FIPS_Code  COVID_Death  All_Cause_Death State_Name\n0    AL     Etowah     01055           11              432    Alabama\n1    AL    Houston     01069           24              542    Alabama\n2    AL  Jefferson     01073           79             2675    Alabama\n3    AL        Lee     01081           43              362    Alabama\n4    AL    Madison     01089           10             1149    Alabama",
      "text/html": "<div>\n<style scoped>\n    .dataframe tbody tr th:only-of-type {\n        vertical-align: middle;\n    }\n\n    .dataframe tbody tr th {\n        vertical-align: top;\n    }\n\n    .dataframe thead th {\n        text-align: right;\n    }\n</style>\n<table border=\"1\" class=\"dataframe\">\n  <thead>\n    <tr style=\"text-align: right;\">\n      <th></th>\n      <th>State</th>\n      <th>Count_Name</th>\n      <th>FIPS_Code</th>\n      <th>COVID_Death</th>\n      <th>All_Cause_Death</th>\n      <th>State_Name</th>\n    </tr>\n  </thead>\n  <tbody>\n    <tr>\n      <th>0</th>\n      <td>AL</td>\n      <td>Etowah</td>\n      <td>01055</td>\n      <td>11</td>\n      <td>432</td>\n      <td>Alabama</td>\n    </tr>\n    <tr>\n      <th>1</th>\n      <td>AL</td>\n      <td>Houston</td>\n      <td>01069</td>\n      <td>24</td>\n      <td>542</td>\n      <td>Alabama</td>\n    </tr>\n    <tr>\n      <th>2</th>\n      <td>AL</td>\n      <td>Jefferson</td>\n      <td>01073</td>\n      <td>79</td>\n      <td>2675</td>\n      <td>Alabama</td>\n    </tr>\n    <tr>\n      <th>3</th>\n      <td>AL</td>\n      <td>Lee</td>\n      <td>01081</td>\n      <td>43</td>\n      <td>362</td>\n      <td>Alabama</td>\n    </tr>\n    <tr>\n      <th>4</th>\n      <td>AL</td>\n      <td>Madison</td>\n      <td>01089</td>\n      <td>10</td>\n      <td>1149</td>\n      <td>Alabama</td>\n    </tr>\n  </tbody>\n</table>\n</div>"
     },
     "metadata": {},
     "execution_count": 499
    }
   ],
   "source": [
    "states_by_county_death_agg.head()"
   ]
  },
  {
   "cell_type": "code",
   "execution_count": 500,
   "metadata": {},
   "outputs": [
    {
     "output_type": "execute_result",
     "data": {
      "text/plain": "         date     county       state     fips  cases  deaths\n0  2020-01-21  Snohomish  Washington  53061.0      1       0\n1  2020-01-22  Snohomish  Washington  53061.0      1       0\n2  2020-01-23  Snohomish  Washington  53061.0      1       0\n3  2020-01-24       Cook    Illinois  17031.0      1       0\n4  2020-01-24  Snohomish  Washington  53061.0      1       0",
      "text/html": "<div>\n<style scoped>\n    .dataframe tbody tr th:only-of-type {\n        vertical-align: middle;\n    }\n\n    .dataframe tbody tr th {\n        vertical-align: top;\n    }\n\n    .dataframe thead th {\n        text-align: right;\n    }\n</style>\n<table border=\"1\" class=\"dataframe\">\n  <thead>\n    <tr style=\"text-align: right;\">\n      <th></th>\n      <th>date</th>\n      <th>county</th>\n      <th>state</th>\n      <th>fips</th>\n      <th>cases</th>\n      <th>deaths</th>\n    </tr>\n  </thead>\n  <tbody>\n    <tr>\n      <th>0</th>\n      <td>2020-01-21</td>\n      <td>Snohomish</td>\n      <td>Washington</td>\n      <td>53061.0</td>\n      <td>1</td>\n      <td>0</td>\n    </tr>\n    <tr>\n      <th>1</th>\n      <td>2020-01-22</td>\n      <td>Snohomish</td>\n      <td>Washington</td>\n      <td>53061.0</td>\n      <td>1</td>\n      <td>0</td>\n    </tr>\n    <tr>\n      <th>2</th>\n      <td>2020-01-23</td>\n      <td>Snohomish</td>\n      <td>Washington</td>\n      <td>53061.0</td>\n      <td>1</td>\n      <td>0</td>\n    </tr>\n    <tr>\n      <th>3</th>\n      <td>2020-01-24</td>\n      <td>Cook</td>\n      <td>Illinois</td>\n      <td>17031.0</td>\n      <td>1</td>\n      <td>0</td>\n    </tr>\n    <tr>\n      <th>4</th>\n      <td>2020-01-24</td>\n      <td>Snohomish</td>\n      <td>Washington</td>\n      <td>53061.0</td>\n      <td>1</td>\n      <td>0</td>\n    </tr>\n  </tbody>\n</table>\n</div>"
     },
     "metadata": {},
     "execution_count": 500
    }
   ],
   "source": [
    "us_counties_cases_deaths.head()"
   ]
  },
  {
   "cell_type": "code",
   "execution_count": 501,
   "metadata": {},
   "outputs": [],
   "source": [
    "us_counties_cases_deaths.rename(columns={'fips': 'FIPS_Code'}, inplace=True)\n",
    "us_counties_cases_deaths.rename(columns={'state': 'State_Name'}, inplace=True)\n",
    "us_counties_cases_deaths.rename(columns={'county': 'County_Name'}, inplace=True)"
   ]
  },
  {
   "cell_type": "code",
   "execution_count": 524,
   "metadata": {},
   "outputs": [],
   "source": [
    "us_counties_cases_deaths['FIPS_Code'] = us_counties_cases_deaths['FIPS_Code'].astype(str)\n",
    "us_counties_cases_deaths['FIPS_Code'] = us_counties_cases_deaths['FIPS_Code'].str.replace('.0', '')\n",
    "us_counties_cases_deaths['FIPS_Code'] =  us_counties_cases_deaths['FIPS_Code'].str.pad(width=5, side='left', fillchar='0')"
   ]
  },
  {
   "cell_type": "code",
   "execution_count": 486,
   "metadata": {},
   "outputs": [],
   "source": []
  },
  {
   "cell_type": "code",
   "execution_count": 522,
   "metadata": {},
   "outputs": [
    {
     "output_type": "stream",
     "name": "stdout",
     "text": "<class 'pandas.core.frame.DataFrame'>\nRangeIndex: 167839 entries, 0 to 167838\nData columns (total 6 columns):\n #   Column       Non-Null Count   Dtype \n---  ------       --------------   ----- \n 0   date         167839 non-null  object\n 1   County_Name  167839 non-null  object\n 2   State_Name   167839 non-null  object\n 3   FIPS_Code    167839 non-null  object\n 4   cases        167839 non-null  int64 \n 5   deaths       167839 non-null  int64 \ndtypes: int64(2), object(4)\nmemory usage: 7.7+ MB\n"
    }
   ],
   "source": [
    "us_counties_cases_deaths.info()"
   ]
  },
  {
   "cell_type": "code",
   "execution_count": 525,
   "metadata": {},
   "outputs": [
    {
     "output_type": "execute_result",
     "data": {
      "text/plain": "         date County_Name  State_Name FIPS_Code  cases  deaths\n0  2020-01-21   Snohomish  Washington     00561      1       0\n1  2020-01-22   Snohomish  Washington     00561      1       0\n2  2020-01-23   Snohomish  Washington     00561      1       0\n3  2020-01-24        Cook    Illinois     00131      1       0\n4  2020-01-24   Snohomish  Washington     00561      1       0",
      "text/html": "<div>\n<style scoped>\n    .dataframe tbody tr th:only-of-type {\n        vertical-align: middle;\n    }\n\n    .dataframe tbody tr th {\n        vertical-align: top;\n    }\n\n    .dataframe thead th {\n        text-align: right;\n    }\n</style>\n<table border=\"1\" class=\"dataframe\">\n  <thead>\n    <tr style=\"text-align: right;\">\n      <th></th>\n      <th>date</th>\n      <th>County_Name</th>\n      <th>State_Name</th>\n      <th>FIPS_Code</th>\n      <th>cases</th>\n      <th>deaths</th>\n    </tr>\n  </thead>\n  <tbody>\n    <tr>\n      <th>0</th>\n      <td>2020-01-21</td>\n      <td>Snohomish</td>\n      <td>Washington</td>\n      <td>00561</td>\n      <td>1</td>\n      <td>0</td>\n    </tr>\n    <tr>\n      <th>1</th>\n      <td>2020-01-22</td>\n      <td>Snohomish</td>\n      <td>Washington</td>\n      <td>00561</td>\n      <td>1</td>\n      <td>0</td>\n    </tr>\n    <tr>\n      <th>2</th>\n      <td>2020-01-23</td>\n      <td>Snohomish</td>\n      <td>Washington</td>\n      <td>00561</td>\n      <td>1</td>\n      <td>0</td>\n    </tr>\n    <tr>\n      <th>3</th>\n      <td>2020-01-24</td>\n      <td>Cook</td>\n      <td>Illinois</td>\n      <td>00131</td>\n      <td>1</td>\n      <td>0</td>\n    </tr>\n    <tr>\n      <th>4</th>\n      <td>2020-01-24</td>\n      <td>Snohomish</td>\n      <td>Washington</td>\n      <td>00561</td>\n      <td>1</td>\n      <td>0</td>\n    </tr>\n  </tbody>\n</table>\n</div>"
     },
     "metadata": {},
     "execution_count": 525
    }
   ],
   "source": [
    "us_counties_cases_deaths.head()"
   ]
  },
  {
   "cell_type": "code",
   "execution_count": 505,
   "metadata": {},
   "outputs": [],
   "source": [
    "overall_2018_county_health_ranking.rename(columns={'ï»¿FIPS': 'FIPS_Code'}, inplace=True)\n",
    "overall_2018_county_health_ranking.rename(columns={'ï»¿FIPS': 'FIPS_Code'}, inplace=True)"
   ]
  },
  {
   "cell_type": "code",
   "execution_count": 506,
   "metadata": {},
   "outputs": [],
   "source": [
    "us_counties_cases_deaths_agg = pandasql.sqldf(\"SELECT State_Name, County_Name, FIPS_Code, SUM(cases) COVID_Confirm FROM us_counties_cases_deaths GROUP BY State_Name, County_Name, FIPS_Code\")"
   ]
  },
  {
   "cell_type": "code",
   "execution_count": 507,
   "metadata": {},
   "outputs": [
    {
     "output_type": "execute_result",
     "data": {
      "text/plain": "  State_Name County_Name  FIPS_Code  COVID_Confirm\n0    Alabama     Autauga     1001.0           2717\n1    Alabama     Baldwin     1003.0           7949\n2    Alabama     Barbour     1005.0           1981\n3    Alabama        Bibb     1007.0           1689\n4    Alabama      Blount     1009.0           1590",
      "text/html": "<div>\n<style scoped>\n    .dataframe tbody tr th:only-of-type {\n        vertical-align: middle;\n    }\n\n    .dataframe tbody tr th {\n        vertical-align: top;\n    }\n\n    .dataframe thead th {\n        text-align: right;\n    }\n</style>\n<table border=\"1\" class=\"dataframe\">\n  <thead>\n    <tr style=\"text-align: right;\">\n      <th></th>\n      <th>State_Name</th>\n      <th>County_Name</th>\n      <th>FIPS_Code</th>\n      <th>COVID_Confirm</th>\n    </tr>\n  </thead>\n  <tbody>\n    <tr>\n      <th>0</th>\n      <td>Alabama</td>\n      <td>Autauga</td>\n      <td>1001.0</td>\n      <td>2717</td>\n    </tr>\n    <tr>\n      <th>1</th>\n      <td>Alabama</td>\n      <td>Baldwin</td>\n      <td>1003.0</td>\n      <td>7949</td>\n    </tr>\n    <tr>\n      <th>2</th>\n      <td>Alabama</td>\n      <td>Barbour</td>\n      <td>1005.0</td>\n      <td>1981</td>\n    </tr>\n    <tr>\n      <th>3</th>\n      <td>Alabama</td>\n      <td>Bibb</td>\n      <td>1007.0</td>\n      <td>1689</td>\n    </tr>\n    <tr>\n      <th>4</th>\n      <td>Alabama</td>\n      <td>Blount</td>\n      <td>1009.0</td>\n      <td>1590</td>\n    </tr>\n  </tbody>\n</table>\n</div>"
     },
     "metadata": {},
     "execution_count": 507
    }
   ],
   "source": [
    "us_counties_cases_deaths_agg.head()"
   ]
  },
  {
   "cell_type": "code",
   "execution_count": 508,
   "metadata": {},
   "outputs": [],
   "source": [
    "overall_2018_county_health_ranking['FIPS_Code'] = overall_2018_county_health_ranking['FIPS_Code'].astype(str)\n",
    "overall_2018_county_health_ranking['FIPS_Code'] = overall_2018_county_health_ranking['FIPS_Code'].str.pad(width=5, side='left', fillchar='0')"
   ]
  },
  {
   "cell_type": "code",
   "execution_count": 509,
   "metadata": {},
   "outputs": [
    {
     "output_type": "execute_result",
     "data": {
      "text/plain": "  FIPS_Code    State   County Length of Life Rank Quality of Life Rank  \\\n0     01001  Alabama  Autauga                  18                    5   \n1     01003  Alabama  Baldwin                   4                    4   \n2     01005  Alabama  Barbour                  14                   49   \n3     01007  Alabama     Bibb                  53                   25   \n4     01009  Alabama   Blount                  17                   12   \n\n  Health Behaviors Rank Clinical Care Rank Social & Economic Factors Rank  \\\n0                    12                 15                              3   \n1                     3                  7                              8   \n2                    57                 20                             58   \n3                    39                 42                             42   \n4                    11                 41                             13   \n\n  Physical Environment Rank Health Outcomes Rank Health Factors Rank  \n0                        51                   11                   8  \n1                        14                    3                   3  \n2                        16                   34                  56  \n3                        29                   41                  37  \n4                        54                   14                  19  ",
      "text/html": "<div>\n<style scoped>\n    .dataframe tbody tr th:only-of-type {\n        vertical-align: middle;\n    }\n\n    .dataframe tbody tr th {\n        vertical-align: top;\n    }\n\n    .dataframe thead th {\n        text-align: right;\n    }\n</style>\n<table border=\"1\" class=\"dataframe\">\n  <thead>\n    <tr style=\"text-align: right;\">\n      <th></th>\n      <th>FIPS_Code</th>\n      <th>State</th>\n      <th>County</th>\n      <th>Length of Life Rank</th>\n      <th>Quality of Life Rank</th>\n      <th>Health Behaviors Rank</th>\n      <th>Clinical Care Rank</th>\n      <th>Social &amp; Economic Factors Rank</th>\n      <th>Physical Environment Rank</th>\n      <th>Health Outcomes Rank</th>\n      <th>Health Factors Rank</th>\n    </tr>\n  </thead>\n  <tbody>\n    <tr>\n      <th>0</th>\n      <td>01001</td>\n      <td>Alabama</td>\n      <td>Autauga</td>\n      <td>18</td>\n      <td>5</td>\n      <td>12</td>\n      <td>15</td>\n      <td>3</td>\n      <td>51</td>\n      <td>11</td>\n      <td>8</td>\n    </tr>\n    <tr>\n      <th>1</th>\n      <td>01003</td>\n      <td>Alabama</td>\n      <td>Baldwin</td>\n      <td>4</td>\n      <td>4</td>\n      <td>3</td>\n      <td>7</td>\n      <td>8</td>\n      <td>14</td>\n      <td>3</td>\n      <td>3</td>\n    </tr>\n    <tr>\n      <th>2</th>\n      <td>01005</td>\n      <td>Alabama</td>\n      <td>Barbour</td>\n      <td>14</td>\n      <td>49</td>\n      <td>57</td>\n      <td>20</td>\n      <td>58</td>\n      <td>16</td>\n      <td>34</td>\n      <td>56</td>\n    </tr>\n    <tr>\n      <th>3</th>\n      <td>01007</td>\n      <td>Alabama</td>\n      <td>Bibb</td>\n      <td>53</td>\n      <td>25</td>\n      <td>39</td>\n      <td>42</td>\n      <td>42</td>\n      <td>29</td>\n      <td>41</td>\n      <td>37</td>\n    </tr>\n    <tr>\n      <th>4</th>\n      <td>01009</td>\n      <td>Alabama</td>\n      <td>Blount</td>\n      <td>17</td>\n      <td>12</td>\n      <td>11</td>\n      <td>41</td>\n      <td>13</td>\n      <td>54</td>\n      <td>14</td>\n      <td>19</td>\n    </tr>\n  </tbody>\n</table>\n</div>"
     },
     "metadata": {},
     "execution_count": 509
    }
   ],
   "source": [
    "overall_2018_county_health_ranking.head()"
   ]
  },
  {
   "cell_type": "code",
   "execution_count": 510,
   "metadata": {},
   "outputs": [],
   "source": [
    "detail_2018_county_health_rankings.rename(columns={'FIPS': 'FIPS_Code'}, inplace=True)\n",
    "detail_2018_county_health_rankings.rename(columns={'State': 'StateName'}, inplace=True)"
   ]
  },
  {
   "cell_type": "code",
   "execution_count": 511,
   "metadata": {},
   "outputs": [],
   "source": [
    "detail_2018_county_health_rankings['FIPS_Code'] = detail_2018_county_health_rankings['FIPS_Code'].astype(str)\n",
    "detail_2018_county_health_rankings['FIPS_Code'] = detail_2018_county_health_rankings['FIPS_Code'].str.pad(width=5, side='left', fillchar='0')"
   ]
  },
  {
   "cell_type": "code",
   "execution_count": 512,
   "metadata": {},
   "outputs": [
    {
     "output_type": "stream",
     "name": "stdout",
     "text": "<class 'pandas.core.frame.DataFrame'>\nRangeIndex: 3142 entries, 0 to 3141\nData columns (total 56 columns):\n #   Column                              Non-Null Count  Dtype  \n---  ------                              --------------  -----  \n 0   FIPS_Code                           3142 non-null   object \n 1   StateName                           3142 non-null   object \n 2   County                              3142 non-null   object \n 3   Number_Adult_Deaths                 3077 non-null   float64\n 4   Age_Adjusted_Mortality              3077 non-null   float64\n 5   Age_Adjusted_Mortality_Black        1334 non-null   float64\n 6   Age_Adjusted_Mortality_Hispanic     797 non-null    float64\n 7   Age_Adjusted_Mortality_White        1556 non-null   float64\n 8   Number_Child_Deaths                 1931 non-null   float64\n 9   Child_Mortality_Rate                1931 non-null   float64\n 10  Child_Mortality_Rate_Black          498 non-null    float64\n 11  Child_Mortality_Rate_Hispanic       359 non-null    float64\n 12  Child_Mortality_Rate_White          604 non-null    float64\n 13  Number_Infant_Deaths                1261 non-null   float64\n 14  Infant Mortality Rate               1261 non-null   float64\n 15  Infant_Mortality_Rate_Black         349 non-null    float64\n 16  Infant_Mortality_Rate_Hispanic      228 non-null    float64\n 17  Infant_Mortality_Rate_White         404 non-null    float64\n 18  Percent_Frequent_Physical_Distress  3142 non-null   int64  \n 19  Percent_Frequent_Mental_Distress    3142 non-null   int64  \n 20  Percent_Diabetic                    3142 non-null   int64  \n 21  HIV_Prevalence_Rate                 2424 non-null   float64\n 22  Percent_Food_Insecure               3142 non-null   int64  \n 23  Percent_Limited_Access              3123 non-null   float64\n 24  Drug_Overdose_Mortality_Rate        1655 non-null   float64\n 25  Range Drug Overdose Mortality Rate  3134 non-null   float64\n 26  Motor_Vehicle_Mortality_Rate        2691 non-null   float64\n 27  Percent_Insufficient_ Sleep         3142 non-null   int64  \n 28  Percent_Uninsured_Adults            3141 non-null   float64\n 29  Percent_Uninsured_Children          3141 non-null   float64\n 30  Heath_Care_Costs                    3135 non-null   float64\n 31  PCP_Rate                            3107 non-null   float64\n 32  PCP_Ratio                           3107 non-null   object \n 33  Percent_Disconnected_Youth          2068 non-null   float64\n 34  Household_Income                    3141 non-null   float64\n 35  Household_ income_Black             1938 non-null   float64\n 36  Household_ income_Hispanic          2457 non-null   float64\n 37  Household_ income_White             2758 non-null   float64\n 38  Percent_Free_Reduced_Lunch          3123 non-null   float64\n 39  Segregation_Index_Black_White       2051 non-null   float64\n 40  Segregation_Index_Nonwhite_White    2786 non-null   float64\n 41  Homicide_Rate                       1245 non-null   float64\n 42  Firearm_Fatalities_Rate             2185 non-null   float64\n 43  Population                          3142 non-null   int64  \n 44  Percent_Under18                     3142 non-null   float64\n 45  Percent_65_and_over                 3142 non-null   float64\n 46  Percent_African_American            3142 non-null   float64\n 47  Percent_American_Alaskan_Indian     3142 non-null   float64\n 48  Percent_Asian                       3142 non-null   float64\n 49  Percent_Hawaiian_PacificIslander    3142 non-null   float64\n 50  Percent_Hispanic                    3142 non-null   float64\n 51  Percent_White                       3142 non-null   float64\n 52  Percent_ Not_Proficient_English     3142 non-null   float64\n 53  Percent_Female                      3142 non-null   float64\n 54  Percent_Rural                       3135 non-null   float64\n 55  Unnamed: 55                         0 non-null      float64\ndtypes: float64(46), int64(6), object(4)\nmemory usage: 1.3+ MB\n"
    }
   ],
   "source": [
    "detail_2018_county_health_rankings.info()"
   ]
  },
  {
   "cell_type": "code",
   "execution_count": 513,
   "metadata": {},
   "outputs": [
    {
     "output_type": "execute_result",
     "data": {
      "text/plain": "  FIPS_Code StateName   County  Number_Adult_Deaths  Age_Adjusted_Mortality  \\\n0     01001   Alabama  Autauga                827.0                   450.0   \n1     01003   Alabama  Baldwin               2753.0                   351.0   \n2     01005   Alabama  Barbour                418.0                   434.0   \n3     01007   Alabama     Bibb                408.0                   529.0   \n4     01009   Alabama   Blount                996.0                   480.0   \n\n   Age_Adjusted_Mortality_Black  Age_Adjusted_Mortality_Hispanic  \\\n0                         532.0                              NaN   \n1                         518.0                            111.0   \n2                         477.0                              NaN   \n3                         630.0                              NaN   \n4                           NaN                              NaN   \n\n   Age_Adjusted_Mortality_White  Number_Child_Deaths  Child_Mortality_Rate  \\\n0                         445.0                 31.0                  56.2   \n1                         349.0                 85.0                  47.7   \n2                         395.0                 15.0                  66.6   \n3                         527.0                 22.0                 116.3   \n4                           NaN                 30.0                  55.4   \n\n   ...  Percent_African_American  Percent_American_Alaskan_Indian  \\\n0  ...                      19.0                              0.5   \n1  ...                       9.0                              0.8   \n2  ...                      47.5                              0.6   \n3  ...                      21.6                              0.4   \n4  ...                       1.4                              0.6   \n\n   Percent_Asian  Percent_Hawaiian_PacificIslander  Percent_Hispanic  \\\n0            1.1                               0.1               2.7   \n1            1.1                               0.1               4.4   \n2            0.5                               0.2               4.2   \n3            0.2                               0.1               2.5   \n4            0.3                               0.1               9.1   \n\n   Percent_White  Percent_ Not_Proficient_English  Percent_Female  \\\n0           75.0                              0.8            51.3   \n1           83.2                              0.8            51.5   \n2           46.5                              1.5            46.9   \n3           74.4                              0.4            46.4   \n4           87.5                              1.9            50.6   \n\n   Percent_Rural  Unnamed: 55  \n0           42.0          NaN  \n1           42.3          NaN  \n2           67.8          NaN  \n3           68.4          NaN  \n4           90.0          NaN  \n\n[5 rows x 56 columns]",
      "text/html": "<div>\n<style scoped>\n    .dataframe tbody tr th:only-of-type {\n        vertical-align: middle;\n    }\n\n    .dataframe tbody tr th {\n        vertical-align: top;\n    }\n\n    .dataframe thead th {\n        text-align: right;\n    }\n</style>\n<table border=\"1\" class=\"dataframe\">\n  <thead>\n    <tr style=\"text-align: right;\">\n      <th></th>\n      <th>FIPS_Code</th>\n      <th>StateName</th>\n      <th>County</th>\n      <th>Number_Adult_Deaths</th>\n      <th>Age_Adjusted_Mortality</th>\n      <th>Age_Adjusted_Mortality_Black</th>\n      <th>Age_Adjusted_Mortality_Hispanic</th>\n      <th>Age_Adjusted_Mortality_White</th>\n      <th>Number_Child_Deaths</th>\n      <th>Child_Mortality_Rate</th>\n      <th>...</th>\n      <th>Percent_African_American</th>\n      <th>Percent_American_Alaskan_Indian</th>\n      <th>Percent_Asian</th>\n      <th>Percent_Hawaiian_PacificIslander</th>\n      <th>Percent_Hispanic</th>\n      <th>Percent_White</th>\n      <th>Percent_ Not_Proficient_English</th>\n      <th>Percent_Female</th>\n      <th>Percent_Rural</th>\n      <th>Unnamed: 55</th>\n    </tr>\n  </thead>\n  <tbody>\n    <tr>\n      <th>0</th>\n      <td>01001</td>\n      <td>Alabama</td>\n      <td>Autauga</td>\n      <td>827.0</td>\n      <td>450.0</td>\n      <td>532.0</td>\n      <td>NaN</td>\n      <td>445.0</td>\n      <td>31.0</td>\n      <td>56.2</td>\n      <td>...</td>\n      <td>19.0</td>\n      <td>0.5</td>\n      <td>1.1</td>\n      <td>0.1</td>\n      <td>2.7</td>\n      <td>75.0</td>\n      <td>0.8</td>\n      <td>51.3</td>\n      <td>42.0</td>\n      <td>NaN</td>\n    </tr>\n    <tr>\n      <th>1</th>\n      <td>01003</td>\n      <td>Alabama</td>\n      <td>Baldwin</td>\n      <td>2753.0</td>\n      <td>351.0</td>\n      <td>518.0</td>\n      <td>111.0</td>\n      <td>349.0</td>\n      <td>85.0</td>\n      <td>47.7</td>\n      <td>...</td>\n      <td>9.0</td>\n      <td>0.8</td>\n      <td>1.1</td>\n      <td>0.1</td>\n      <td>4.4</td>\n      <td>83.2</td>\n      <td>0.8</td>\n      <td>51.5</td>\n      <td>42.3</td>\n      <td>NaN</td>\n    </tr>\n    <tr>\n      <th>2</th>\n      <td>01005</td>\n      <td>Alabama</td>\n      <td>Barbour</td>\n      <td>418.0</td>\n      <td>434.0</td>\n      <td>477.0</td>\n      <td>NaN</td>\n      <td>395.0</td>\n      <td>15.0</td>\n      <td>66.6</td>\n      <td>...</td>\n      <td>47.5</td>\n      <td>0.6</td>\n      <td>0.5</td>\n      <td>0.2</td>\n      <td>4.2</td>\n      <td>46.5</td>\n      <td>1.5</td>\n      <td>46.9</td>\n      <td>67.8</td>\n      <td>NaN</td>\n    </tr>\n    <tr>\n      <th>3</th>\n      <td>01007</td>\n      <td>Alabama</td>\n      <td>Bibb</td>\n      <td>408.0</td>\n      <td>529.0</td>\n      <td>630.0</td>\n      <td>NaN</td>\n      <td>527.0</td>\n      <td>22.0</td>\n      <td>116.3</td>\n      <td>...</td>\n      <td>21.6</td>\n      <td>0.4</td>\n      <td>0.2</td>\n      <td>0.1</td>\n      <td>2.5</td>\n      <td>74.4</td>\n      <td>0.4</td>\n      <td>46.4</td>\n      <td>68.4</td>\n      <td>NaN</td>\n    </tr>\n    <tr>\n      <th>4</th>\n      <td>01009</td>\n      <td>Alabama</td>\n      <td>Blount</td>\n      <td>996.0</td>\n      <td>480.0</td>\n      <td>NaN</td>\n      <td>NaN</td>\n      <td>NaN</td>\n      <td>30.0</td>\n      <td>55.4</td>\n      <td>...</td>\n      <td>1.4</td>\n      <td>0.6</td>\n      <td>0.3</td>\n      <td>0.1</td>\n      <td>9.1</td>\n      <td>87.5</td>\n      <td>1.9</td>\n      <td>50.6</td>\n      <td>90.0</td>\n      <td>NaN</td>\n    </tr>\n  </tbody>\n</table>\n<p>5 rows × 56 columns</p>\n</div>"
     },
     "metadata": {},
     "execution_count": 513
    }
   ],
   "source": [
    "detail_2018_county_health_rankings.head()"
   ]
  },
  {
   "cell_type": "code",
   "execution_count": 514,
   "metadata": {},
   "outputs": [],
   "source": [
    "for column in overall_2018_county_health_ranking.columns:\n",
    "    overall_2018_county_health_ranking.rename(columns={column: column.replace(' ', '_').replace('&_', '')}, inplace=True)\n",
    "    if column == 'State':\n",
    "        overall_2018_county_health_ranking.rename(columns={'State': 'StateName'}, inplace=True)"
   ]
  },
  {
   "cell_type": "code",
   "execution_count": 515,
   "metadata": {},
   "outputs": [
    {
     "output_type": "stream",
     "name": "stdout",
     "text": "<class 'pandas.core.frame.DataFrame'>\nRangeIndex: 3142 entries, 0 to 3141\nData columns (total 11 columns):\n #   Column                        Non-Null Count  Dtype \n---  ------                        --------------  ----- \n 0   FIPS_Code                     3142 non-null   object\n 1   StateName                     3142 non-null   object\n 2   County                        3142 non-null   object\n 3   Length_of_Life_Rank           3142 non-null   object\n 4   Quality_of_Life_Rank          3142 non-null   object\n 5   Health_Behaviors_Rank         3142 non-null   object\n 6   Clinical_Care_Rank            3142 non-null   object\n 7   Social_Economic_Factors_Rank  3142 non-null   object\n 8   Physical_Environment_Rank     3142 non-null   object\n 9   Health_Outcomes_Rank          3142 non-null   object\n 10  Health_Factors_Rank           3142 non-null   object\ndtypes: object(11)\nmemory usage: 270.1+ KB\n"
    }
   ],
   "source": [
    "overall_2018_county_health_ranking.info()"
   ]
  },
  {
   "cell_type": "code",
   "execution_count": 516,
   "metadata": {},
   "outputs": [],
   "source": [
    "overall_2018_county_health_ranking.rename(columns={'State': 'StateName'}, inplace=True)"
   ]
  },
  {
   "cell_type": "code",
   "execution_count": 517,
   "metadata": {},
   "outputs": [
    {
     "output_type": "execute_result",
     "data": {
      "text/plain": "  FIPS_Code StateName   County Length_of_Life_Rank Quality_of_Life_Rank  \\\n0     01001   Alabama  Autauga                  18                    5   \n1     01003   Alabama  Baldwin                   4                    4   \n2     01005   Alabama  Barbour                  14                   49   \n3     01007   Alabama     Bibb                  53                   25   \n4     01009   Alabama   Blount                  17                   12   \n\n  Health_Behaviors_Rank Clinical_Care_Rank Social_Economic_Factors_Rank  \\\n0                    12                 15                            3   \n1                     3                  7                            8   \n2                    57                 20                           58   \n3                    39                 42                           42   \n4                    11                 41                           13   \n\n  Physical_Environment_Rank Health_Outcomes_Rank Health_Factors_Rank  \n0                        51                   11                   8  \n1                        14                    3                   3  \n2                        16                   34                  56  \n3                        29                   41                  37  \n4                        54                   14                  19  ",
      "text/html": "<div>\n<style scoped>\n    .dataframe tbody tr th:only-of-type {\n        vertical-align: middle;\n    }\n\n    .dataframe tbody tr th {\n        vertical-align: top;\n    }\n\n    .dataframe thead th {\n        text-align: right;\n    }\n</style>\n<table border=\"1\" class=\"dataframe\">\n  <thead>\n    <tr style=\"text-align: right;\">\n      <th></th>\n      <th>FIPS_Code</th>\n      <th>StateName</th>\n      <th>County</th>\n      <th>Length_of_Life_Rank</th>\n      <th>Quality_of_Life_Rank</th>\n      <th>Health_Behaviors_Rank</th>\n      <th>Clinical_Care_Rank</th>\n      <th>Social_Economic_Factors_Rank</th>\n      <th>Physical_Environment_Rank</th>\n      <th>Health_Outcomes_Rank</th>\n      <th>Health_Factors_Rank</th>\n    </tr>\n  </thead>\n  <tbody>\n    <tr>\n      <th>0</th>\n      <td>01001</td>\n      <td>Alabama</td>\n      <td>Autauga</td>\n      <td>18</td>\n      <td>5</td>\n      <td>12</td>\n      <td>15</td>\n      <td>3</td>\n      <td>51</td>\n      <td>11</td>\n      <td>8</td>\n    </tr>\n    <tr>\n      <th>1</th>\n      <td>01003</td>\n      <td>Alabama</td>\n      <td>Baldwin</td>\n      <td>4</td>\n      <td>4</td>\n      <td>3</td>\n      <td>7</td>\n      <td>8</td>\n      <td>14</td>\n      <td>3</td>\n      <td>3</td>\n    </tr>\n    <tr>\n      <th>2</th>\n      <td>01005</td>\n      <td>Alabama</td>\n      <td>Barbour</td>\n      <td>14</td>\n      <td>49</td>\n      <td>57</td>\n      <td>20</td>\n      <td>58</td>\n      <td>16</td>\n      <td>34</td>\n      <td>56</td>\n    </tr>\n    <tr>\n      <th>3</th>\n      <td>01007</td>\n      <td>Alabama</td>\n      <td>Bibb</td>\n      <td>53</td>\n      <td>25</td>\n      <td>39</td>\n      <td>42</td>\n      <td>42</td>\n      <td>29</td>\n      <td>41</td>\n      <td>37</td>\n    </tr>\n    <tr>\n      <th>4</th>\n      <td>01009</td>\n      <td>Alabama</td>\n      <td>Blount</td>\n      <td>17</td>\n      <td>12</td>\n      <td>11</td>\n      <td>41</td>\n      <td>13</td>\n      <td>54</td>\n      <td>14</td>\n      <td>19</td>\n    </tr>\n  </tbody>\n</table>\n</div>"
     },
     "metadata": {},
     "execution_count": 517
    }
   ],
   "source": [
    "overall_2018_county_health_ranking.head()"
   ]
  },
  {
   "cell_type": "code",
   "execution_count": null,
   "metadata": {},
   "outputs": [],
   "source": []
  }
 ],
 "metadata": {
  "language_info": {
   "codemirror_mode": {
    "name": "ipython",
    "version": 3
   },
   "file_extension": ".py",
   "mimetype": "text/x-python",
   "name": "python",
   "nbconvert_exporter": "python",
   "pygments_lexer": "ipython3",
   "version": "3.7.4-final"
  },
  "orig_nbformat": 2,
  "kernelspec": {
   "name": "python37464bitbaseconda9f1ff8ea829542c5aaef06c78edb4be9",
   "display_name": "Python 3.7.4 64-bit ('base': conda)"
  }
 },
 "nbformat": 4,
 "nbformat_minor": 2
}